{
 "cells": [
  {
   "cell_type": "markdown",
   "metadata": {},
   "source": [
    "# Adjustment: Depresjon\n",
    "\n",
    "by: Cristóbal Estrada Salinas"
   ]
  },
  {
   "cell_type": "code",
   "execution_count": 1,
   "metadata": {},
   "outputs": [],
   "source": [
    "import numpy as np\n",
    "import pandas as pd\n",
    "import matplotlib.pyplot as plt"
   ]
  },
  {
   "cell_type": "code",
   "execution_count": 2,
   "metadata": {},
   "outputs": [
    {
     "data": {
      "application/vnd.microsoft.datawrangler.viewer.v0+json": {
       "columns": [
        {
         "name": "index",
         "rawType": "int64",
         "type": "integer"
        },
        {
         "name": "number",
         "rawType": "object",
         "type": "string"
        },
        {
         "name": "days",
         "rawType": "int64",
         "type": "integer"
        },
        {
         "name": "gender",
         "rawType": "int64",
         "type": "integer"
        },
        {
         "name": "age",
         "rawType": "object",
         "type": "string"
        },
        {
         "name": "afftype",
         "rawType": "float64",
         "type": "float"
        },
        {
         "name": "melanch",
         "rawType": "float64",
         "type": "float"
        },
        {
         "name": "inpatient",
         "rawType": "float64",
         "type": "float"
        },
        {
         "name": "edu",
         "rawType": "object",
         "type": "string"
        },
        {
         "name": "marriage",
         "rawType": "float64",
         "type": "float"
        },
        {
         "name": "work",
         "rawType": "float64",
         "type": "float"
        },
        {
         "name": "madrs1",
         "rawType": "float64",
         "type": "float"
        },
        {
         "name": "madrs2",
         "rawType": "float64",
         "type": "float"
        }
       ],
       "conversionMethod": "pd.DataFrame",
       "ref": "4c69877f-7401-47b5-96d6-8dae036de827",
       "rows": [
        [
         "0",
         "condition_1",
         "11",
         "2",
         "35-39",
         "2.0",
         "2.0",
         "2.0",
         "6-10",
         "1.0",
         "2.0",
         "19.0",
         "19.0"
        ],
        [
         "1",
         "condition_2",
         "18",
         "2",
         "40-44",
         "1.0",
         "2.0",
         "2.0",
         "6-10",
         "2.0",
         "2.0",
         "24.0",
         "11.0"
        ],
        [
         "2",
         "condition_3",
         "13",
         "1",
         "45-49",
         "2.0",
         "2.0",
         "2.0",
         "6-10",
         "2.0",
         "2.0",
         "24.0",
         "25.0"
        ],
        [
         "3",
         "condition_4",
         "13",
         "2",
         "25-29",
         "2.0",
         "2.0",
         "2.0",
         "11-15",
         "1.0",
         "1.0",
         "20.0",
         "16.0"
        ],
        [
         "4",
         "condition_5",
         "13",
         "2",
         "50-54",
         "2.0",
         "2.0",
         "2.0",
         "11-15",
         "2.0",
         "2.0",
         "26.0",
         "26.0"
        ]
       ],
       "shape": {
        "columns": 12,
        "rows": 5
       }
      },
      "text/html": [
       "<div>\n",
       "<style scoped>\n",
       "    .dataframe tbody tr th:only-of-type {\n",
       "        vertical-align: middle;\n",
       "    }\n",
       "\n",
       "    .dataframe tbody tr th {\n",
       "        vertical-align: top;\n",
       "    }\n",
       "\n",
       "    .dataframe thead th {\n",
       "        text-align: right;\n",
       "    }\n",
       "</style>\n",
       "<table border=\"1\" class=\"dataframe\">\n",
       "  <thead>\n",
       "    <tr style=\"text-align: right;\">\n",
       "      <th></th>\n",
       "      <th>number</th>\n",
       "      <th>days</th>\n",
       "      <th>gender</th>\n",
       "      <th>age</th>\n",
       "      <th>afftype</th>\n",
       "      <th>melanch</th>\n",
       "      <th>inpatient</th>\n",
       "      <th>edu</th>\n",
       "      <th>marriage</th>\n",
       "      <th>work</th>\n",
       "      <th>madrs1</th>\n",
       "      <th>madrs2</th>\n",
       "    </tr>\n",
       "  </thead>\n",
       "  <tbody>\n",
       "    <tr>\n",
       "      <th>0</th>\n",
       "      <td>condition_1</td>\n",
       "      <td>11</td>\n",
       "      <td>2</td>\n",
       "      <td>35-39</td>\n",
       "      <td>2.0</td>\n",
       "      <td>2.0</td>\n",
       "      <td>2.0</td>\n",
       "      <td>6-10</td>\n",
       "      <td>1.0</td>\n",
       "      <td>2.0</td>\n",
       "      <td>19.0</td>\n",
       "      <td>19.0</td>\n",
       "    </tr>\n",
       "    <tr>\n",
       "      <th>1</th>\n",
       "      <td>condition_2</td>\n",
       "      <td>18</td>\n",
       "      <td>2</td>\n",
       "      <td>40-44</td>\n",
       "      <td>1.0</td>\n",
       "      <td>2.0</td>\n",
       "      <td>2.0</td>\n",
       "      <td>6-10</td>\n",
       "      <td>2.0</td>\n",
       "      <td>2.0</td>\n",
       "      <td>24.0</td>\n",
       "      <td>11.0</td>\n",
       "    </tr>\n",
       "    <tr>\n",
       "      <th>2</th>\n",
       "      <td>condition_3</td>\n",
       "      <td>13</td>\n",
       "      <td>1</td>\n",
       "      <td>45-49</td>\n",
       "      <td>2.0</td>\n",
       "      <td>2.0</td>\n",
       "      <td>2.0</td>\n",
       "      <td>6-10</td>\n",
       "      <td>2.0</td>\n",
       "      <td>2.0</td>\n",
       "      <td>24.0</td>\n",
       "      <td>25.0</td>\n",
       "    </tr>\n",
       "    <tr>\n",
       "      <th>3</th>\n",
       "      <td>condition_4</td>\n",
       "      <td>13</td>\n",
       "      <td>2</td>\n",
       "      <td>25-29</td>\n",
       "      <td>2.0</td>\n",
       "      <td>2.0</td>\n",
       "      <td>2.0</td>\n",
       "      <td>11-15</td>\n",
       "      <td>1.0</td>\n",
       "      <td>1.0</td>\n",
       "      <td>20.0</td>\n",
       "      <td>16.0</td>\n",
       "    </tr>\n",
       "    <tr>\n",
       "      <th>4</th>\n",
       "      <td>condition_5</td>\n",
       "      <td>13</td>\n",
       "      <td>2</td>\n",
       "      <td>50-54</td>\n",
       "      <td>2.0</td>\n",
       "      <td>2.0</td>\n",
       "      <td>2.0</td>\n",
       "      <td>11-15</td>\n",
       "      <td>2.0</td>\n",
       "      <td>2.0</td>\n",
       "      <td>26.0</td>\n",
       "      <td>26.0</td>\n",
       "    </tr>\n",
       "  </tbody>\n",
       "</table>\n",
       "</div>"
      ],
      "text/plain": [
       "        number  days  gender    age  afftype  melanch  inpatient    edu  \\\n",
       "0  condition_1    11       2  35-39      2.0      2.0        2.0   6-10   \n",
       "1  condition_2    18       2  40-44      1.0      2.0        2.0   6-10   \n",
       "2  condition_3    13       1  45-49      2.0      2.0        2.0   6-10   \n",
       "3  condition_4    13       2  25-29      2.0      2.0        2.0  11-15   \n",
       "4  condition_5    13       2  50-54      2.0      2.0        2.0  11-15   \n",
       "\n",
       "   marriage  work  madrs1  madrs2  \n",
       "0       1.0   2.0    19.0    19.0  \n",
       "1       2.0   2.0    24.0    11.0  \n",
       "2       2.0   2.0    24.0    25.0  \n",
       "3       1.0   1.0    20.0    16.0  \n",
       "4       2.0   2.0    26.0    26.0  "
      ]
     },
     "execution_count": 2,
     "metadata": {},
     "output_type": "execute_result"
    }
   ],
   "source": [
    "scores = pd.read_csv('scores.csv')\n",
    "scores.head()"
   ]
  },
  {
   "cell_type": "markdown",
   "metadata": {},
   "source": [
    "## filter_patient_data Function"
   ]
  },
  {
   "cell_type": "code",
   "execution_count": 3,
   "metadata": {},
   "outputs": [],
   "source": [
    "def filter_patient_data(patient_file, scores, patient_id):\n",
    "    ###\n",
    "    ###filtering patient datas according to scores file\n",
    "\n",
    "    ###parameters:\n",
    "    ###    patient_file (str)\n",
    "    ###    scores (dataframe)\n",
    "    ###    patient_id (str)\n",
    "    ###\n",
    "    patient_data = pd.read_csv(patient_file)\n",
    "    scores\n",
    "    \n",
    "    # adjust days column to numeric values\n",
    "    scores[\"days\"] = pd.to_numeric(scores[\"days\"], errors='coerce')\n",
    "    \n",
    "    # assigned days in scores file\n",
    "    assigned_days = scores.loc[scores[\"number\"] == patient_id, \"days\"].values[0]\n",
    "    \n",
    "    # adjusting dates format\n",
    "    patient_data[\"date\"] = pd.to_datetime(patient_data[\"date\"], errors='coerce')\n",
    "    \n",
    "    filtered_data = patient_data[\n",
    "        patient_data[\"date\"] < patient_data[\"date\"].min() + pd.Timedelta(days=assigned_days)\n",
    "    ]\n",
    "    return filtered_data\n",
    "\n",
    "# adj_patient = filter_patient_data(\"patient_file\", \"scores\", \"patient_id\")\n"
   ]
  },
  {
   "cell_type": "markdown",
   "metadata": {},
   "source": [
    "## Condition"
   ]
  },
  {
   "cell_type": "code",
   "execution_count": 28,
   "metadata": {},
   "outputs": [],
   "source": [
    "# indivivudal patient file adjustment - condition\n",
    "\n",
    "patient_file = 'condition_23.csv'\n",
    "patient_id = 'condition_23'\n",
    "\n",
    "adj_condition = filter_patient_data(patient_file, scores, patient_id)\n",
    "adj_condition.to_csv(\"adj_condition_23.csv\", index=False)"
   ]
  },
  {
   "cell_type": "markdown",
   "metadata": {},
   "source": [
    "## Control"
   ]
  },
  {
   "cell_type": "code",
   "execution_count": 62,
   "metadata": {},
   "outputs": [],
   "source": [
    "# indivivudal patient file adjustment - control\n",
    "\n",
    "patient_file = 'control_32.csv'\n",
    "patient_id = 'control_32'\n",
    "\n",
    "adj_control = filter_patient_data(patient_file, scores, patient_id)\n",
    "adj_control.to_csv(\"adj_control_32.csv\", index=False)"
   ]
  }
 ],
 "metadata": {
  "kernelspec": {
   "display_name": "Python 3",
   "language": "python",
   "name": "python3"
  },
  "language_info": {
   "codemirror_mode": {
    "name": "ipython",
    "version": 3
   },
   "file_extension": ".py",
   "mimetype": "text/x-python",
   "name": "python",
   "nbconvert_exporter": "python",
   "pygments_lexer": "ipython3",
   "version": "3.13.1"
  }
 },
 "nbformat": 4,
 "nbformat_minor": 2
}
